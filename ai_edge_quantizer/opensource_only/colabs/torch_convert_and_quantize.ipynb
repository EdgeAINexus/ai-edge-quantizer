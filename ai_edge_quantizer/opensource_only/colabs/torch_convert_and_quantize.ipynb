{
  "cells": [
    {
      "cell_type": "code",
      "execution_count": null,
      "metadata": {
        "id": "_Z6db789D_hv"
      },
      "outputs": [],
      "source": [
        "# Copyright 2024 The AI Edge Quantizer Authors.\n",
        "#\n",
        "# Licensed under the Apache License, Version 2.0 (the \"License\");\n",
        "# you may not use this file except in compliance with the License.\n",
        "# You may obtain a copy of the License at\n",
        "#\n",
        "#     http://www.apache.org/licenses/LICENSE-2.0\n",
        "#\n",
        "# Unless required by applicable law or agreed to in writing, software\n",
        "# distributed under the License is distributed on an \"AS IS\" BASIS,\n",
        "# WITHOUT WARRANTIES OR CONDITIONS OF ANY KIND, either express or implied.\n",
        "# See the License for the specific language governing permissions and\n",
        "# limitations under the License.\n",
        "# =============================================================================="
      ]
    },
    {
      "cell_type": "code",
      "execution_count": null,
      "metadata": {
        "id": "HsWBIuE3EBCf"
      },
      "outputs": [],
      "source": [
        "!pip install ai-edge-torch-nightly\n",
        "!pip install ai-edge-quantizer-nightly\n",
        "!pip install ai-edge-model-explorer"
      ]
    },
    {
      "cell_type": "markdown",
      "metadata": {
        "id": "bD4ZDD9EEE9P"
      },
      "source": [
        "## Install"
      ]
    },
    {
      "cell_type": "code",
      "execution_count": null,
      "metadata": {
        "id": "unHj1x85EHrA"
      },
      "outputs": [],
      "source": [
        "import logging\n",
        "\n",
        "import tensorflow as tf\n",
        "import numpy as np\n",
        "print(\"TensorFlow version: \", tf.__version__)\n",
        "\n",
        "import matplotlib.pylab as plt\n",
        "import pathlib\n",
        "import random\n",
        "\n",
        "import ai_edge_torch\n",
        "\n",
        "import torch\n",
        "import torchvision\n",
        "\n",
        "import numpy as np\n",
        "import model_explorer\n",
        "\n",
        "from ai_edge_quantizer import quantizer\n",
        "from ai_edge_quantizer import recipe\n",
        "from ai_edge_quantizer import qtyping\n",
        "from ai_edge_quantizer.utils import tfl_flatbuffer_utils"
      ]
    },
    {
      "cell_type": "markdown",
      "metadata": {
        "id": "cec203fc-7b6d-41bf-9716-4b76af45b019"
      },
      "source": [
        "## This Colab shows how to take a PyTorch model, convert using AI Edge Torch and then quantize with AI Edge Quantizer. More details of conversion of PyTorch models is at https://ai.google.dev/edge/litert/models/convert_pytorch"
      ]
    },
    {
      "cell_type": "code",
      "execution_count": null,
      "metadata": {
        "id": "c4ad2105-ce72-4f00-8f4d-74b0d505d422"
      },
      "outputs": [],
      "source": [
        "resnet18 = torchvision.models.resnet18(torchvision.models.ResNet18_Weights.IMAGENET1K_V1).eval()\n",
        "sample_inputs = (torch.randn(1, 3, 224, 224),)\n",
        "torch_output = resnet18(*sample_inputs)\n",
        "\n",
        "# Conversion\n",
        "edge_model = ai_edge_torch.convert(resnet18, sample_inputs)\n",
        "\n",
        "# Inference\n",
        "edge_output = edge_model(*sample_inputs)\n",
        "\n",
        "# Validation\n",
        "if np.allclose(torch_output.detach().numpy(), edge_output, atol=1e-5):\n",
        "    print(\"Inference result with Pytorch and LiteRT was within tolerance\")\n",
        "else:\n",
        "    print(\"Something wrong with Pytorch --\u003e LiteRT\")\n",
        "\n",
        "# Serialization\n",
        "edge_model.export('resnet.tflite')\n",
        "\n",
        "# Model Explorer Visualization\n",
        "model_explorer.visualize('resnet.tflite')\n",
        "\n",
        "# Quantization (API will quantize and save a flatbuffer as *.tflite)\n",
        "qt = quantizer.Quantizer('resnet.tflite', recipe.dynamic_wi8_afp32())\n",
        "quant_result = qt.quantize().save(\"\", \"aeq_resnet\")"
      ]
    },
    {
      "cell_type": "markdown",
      "metadata": {
        "id": "VeBhDuzq7FCd"
      },
      "source": [
        "## Compare size of flatbuffers\n"
      ]
    },
    {
      "cell_type": "code",
      "execution_count": null,
      "metadata": {
        "id": "H_dG3Mh07ZGZ"
      },
      "outputs": [],
      "source": [
        "!ls -lh *.tflite"
      ]
    }
  ],
  "metadata": {
    "colab": {
      "private_outputs": true,
      "provenance": []
    }
  },
  "nbformat": 4,
  "nbformat_minor": 0
}
