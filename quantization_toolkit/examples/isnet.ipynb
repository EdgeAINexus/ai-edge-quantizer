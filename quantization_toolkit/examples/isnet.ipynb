{
  "cells": [
    {
      "cell_type": "markdown",
      "metadata": {
        "id": "ijPhcVzPXQDU"
      },
      "source": [
        "Demonstrate how `QuantToolkit` can solve problems that the standard TFL quantizer can not do with `isnet` (http://go/arxiv/2108.12382)."
      ]
    },
    {
      "cell_type": "code",
      "execution_count": null,
      "metadata": {
        "id": "L16meLkvXgZk"
      },
      "outputs": [],
      "source": [
        "import os\n",
        "import matplotlib.pyplot as plt\n",
        "import numpy as np\n",
        "from PIL import Image\n",
        "import skimage\n",
        "import tensorflow as tf\n",
        "from tensorflow.python.platform import gfile"
      ]
    },
    {
      "cell_type": "code",
      "execution_count": null,
      "metadata": {
        "id": "Q_i0HmTC_UMe"
      },
      "outputs": [],
      "source": [
        "# @title Preprocess/postprocess utils (unrelated to quantization) { display-mode: \"form\" }\n",
        "MODEL_INPUT_HW = (1024, 1024)\n",
        "\n",
        "def make_channels_first(image):\n",
        "  image = tf.transpose(image, [2, 0, 1])\n",
        "  image = np.expand_dims(image, axis=0)\n",
        "  return image\n",
        "\n",
        "def preprocess_image(file_path):\n",
        "  image = skimage.io.imread(file_path)\n",
        "  image = tf.image.resize(image, MODEL_INPUT_HW).numpy().astype(np.float32)\n",
        "  image = image / 255.0\n",
        "  return make_channels_first(image)\n",
        "\n",
        "def preprocess_image_ai_edge_torch(test_image_path):\n",
        "  image = Image.open(test_image_path)\n",
        "  test_image = np.array(image.resize(MODEL_INPUT_HW, Image.Resampling.BILINEAR))\n",
        "  test_image = np.expand_dims(test_image, axis=0).astype(np.float32)\n",
        "  return test_image\n",
        "\n",
        "def run_inference(image, tflite_model):\n",
        "  \"\"\"Get segmentation mask of the image.\"\"\"\n",
        "  interpreter = tf.lite.Interpreter(model_content=tflite_model)\n",
        "  interpreter.allocate_tensors()\n",
        "\n",
        "  input_details = interpreter.get_input_details()[0]\n",
        "  interpreter.set_tensor(input_details[\"index\"], image)\n",
        "  interpreter.invoke()\n",
        "\n",
        "  output_details = interpreter.get_output_details()\n",
        "  # ai_edge_torch converted model has only one output but\n",
        "  # ONNX converted model has 5.\n",
        "  output_index = 5 if len(output_details) \u003e 1 else 0\n",
        "  outputs = []\n",
        "  for detail in output_details:\n",
        "    outputs.append(interpreter.get_tensor(detail[\"index\"]))\n",
        "  mask = tf.squeeze(outputs[output_index])\n",
        "  # Min-max normalization.\n",
        "  tf_min = np.min(mask)\n",
        "  tf_max = np.max(mask)\n",
        "  mask = (mask - tf_min) / (tf_max - tf_min)\n",
        "  # Scale [0, 1] -\u003e [0, 255].\n",
        "  mask = (mask * 255)\n",
        "  return mask\n",
        "\n",
        "\n",
        "def draw_segementation(image, float_mask, quant_mask, info):\n",
        "  _, ax = plt.subplots(1, 3, figsize=(15, 10))\n",
        "\n",
        "  ax[0].imshow(np.array(image))\n",
        "  ax[1].imshow(np.array(float_mask), cmap=\"gray\")\n",
        "  ax[2].imshow(np.array(quant_mask), cmap=\"gray\")\n",
        "\n",
        "  ax[1].set_title(\"Image\")\n",
        "  ax[1].set_title(\"Float Mask\")\n",
        "  ax[2].set_title(\"Quant Mask: {}\".format(info))\n",
        "\n",
        "  plt.show()\n",
        "\n",
        "def save_tfl_model(model_content, save_path):\n",
        "  with gfile.Open(save_path, \"wb\") as f:\n",
        "    f.write(model_content)\n",
        "  print(\"model saved to: {}\".format(save_path))\n",
        "\n",
        "\n"
      ]
    },
    {
      "cell_type": "code",
      "execution_count": null,
      "metadata": {
        "id": "_2dSd1gXD7Rd"
      },
      "outputs": [],
      "source": [
        "# @title file paths\n",
        "BASE_SAVE_PATH = '/cns/py-d/home/tensorflow-mobile-eng/rewu/isnet_playground/'\n",
        "TEST_IMAGE_PATH = os.path.join(BASE_SAVE_PATH, \"source_model/\",\"input_image.jpg\")\n",
        "SAVED_MODEL_PATH = os.path.join(BASE_SAVE_PATH, \"source_model/\",\"isnet_saved_model\")\n",
        "AI_EDGE_TORCH_CONVERTED_MODEL_PATH = os.path.join(BASE_SAVE_PATH, \"source_model/\",\"torch_isnet.tflite\")"
      ]
    },
    {
      "cell_type": "code",
      "execution_count": null,
      "metadata": {
        "id": "2gW93ZgoIHBu"
      },
      "outputs": [],
      "source": [
        "# @title test image\n",
        "!fileutil cp {TEST_IMAGE_PATH} ./input_image.jpg # copy the test image to local\n",
        "image_path = os.path.basename('./input_image.jpg')\n",
        "image = Image.open(image_path)\n",
        "test_image = preprocess_image(image_path)"
      ]
    },
    {
      "cell_type": "markdown",
      "metadata": {
        "id": "LZXyKT3BCNmN"
      },
      "source": [
        "# TFL conversion"
      ]
    },
    {
      "cell_type": "code",
      "execution_count": null,
      "metadata": {
        "id": "PLQU1edNAvbm"
      },
      "outputs": [],
      "source": [
        "# @title Convert the float model through standard TFL converter.\n",
        "tfl_converter = tf.lite.TFLiteConverter.from_saved_model(SAVED_MODEL_PATH)\n",
        "float_model = tfl_converter.convert()\n",
        "\n",
        "float_model_path = \"./isnet_float.tflite\"\n",
        "save_tfl_model(float_model, float_model_path)\n",
        "save_tfl_model(float_model, BASE_SAVE_PATH + \"float_model.tflite\")"
      ]
    },
    {
      "cell_type": "code",
      "execution_count": null,
      "metadata": {
        "id": "oG8_63vjc6vV"
      },
      "outputs": [],
      "source": [
        "float_mask = run_inference(test_image, float_model)"
      ]
    },
    {
      "cell_type": "code",
      "execution_count": null,
      "metadata": {
        "id": "jpLuLK-rilAF"
      },
      "outputs": [],
      "source": [
        "# @title Quantization through TFL quantizer\n",
        "tfl_converter.optimizations = [tf.lite.Optimize.DEFAULT]\n",
        "tfl_quantized_model = tfl_converter.convert()\n",
        "save_tfl_model(tfl_quantized_model, BASE_SAVE_PATH + \"tfl_quantized.tflite\")"
      ]
    },
    {
      "cell_type": "code",
      "execution_count": null,
      "metadata": {
        "id": "QVWnFxDMlVkc"
      },
      "outputs": [],
      "source": [
        "# Run and compare.\n",
        "tfl_quantized_mask = run_inference(test_image, tfl_quantized_model)\n",
        "draw_segementation(image, float_mask, tfl_quantized_mask, \"TFL quantized mask\")"
      ]
    },
    {
      "cell_type": "markdown",
      "metadata": {
        "id": "GK9S3ma-l9Mn"
      },
      "source": [
        "It is unclear what kind of optimizations `tfl_converter.optimizations = [tf.lite.Optimize.DEFAULT]` does to the model.\n",
        "\n",
        "\n",
        "According to the doc (http://google3/third_party/tensorflow/lite/python/lite.py?l=138)\n",
        "\n",
        "\"*Default optimization strategy that quantizes model weights. Enhanced\n",
        "optimizations are gained by providing a representative dataset that quantizes biases and activations as well. Converter will **DO ITS BEST** to reduce size and latency, while minimizing the loss in accuracy.*\"\n",
        "\n",
        "What does **DO ITS BEST** mean? Read this doc https://www.tensorflow.org/lite/performance/post_training_quantization.\n",
        "\n",
        "\n",
        "\n"
      ]
    },
    {
      "cell_type": "markdown",
      "metadata": {
        "id": "ex2FhfBKJhFV"
      },
      "source": [
        "But from our 3p partners, we know this model works fine (good quality) after quantizing with Apple CoreML. On the other hand, there is not much things we can do with standard TFL quantizatizer as quantization logics are hidden in the converter (a.k.a. **DO ITS BEST**).\n",
        "\n",
        "Here comes the rescue from ODML Quantizer (temporary name)"
      ]
    },
    {
      "cell_type": "markdown",
      "metadata": {
        "id": "QcdAXUn_DeaO"
      },
      "source": [
        "# ODML Quantizer"
      ]
    },
    {
      "cell_type": "code",
      "execution_count": null,
      "metadata": {
        "id": "LZmN2_ezl5ju"
      },
      "outputs": [],
      "source": [
        "from colabtools import adhoc_import\n",
        "with adhoc_import.Google3SubmittedChangelist():\n",
        "  from google3.third_party.odml.model_customization.quantization.quant_toolkit import QuantToolkit"
      ]
    },
    {
      "cell_type": "markdown",
      "metadata": {
        "id": "3S7VLgswL4ig"
      },
      "source": [
        "To use the `QuantToolkit`, we need to provide\n",
        "* the float .tflite model.\n",
        "* quantization recipe (i.e., apply quantization algorithm X on Operator Y with configuration Z).\n",
        "\n",
        "\n",
        "\n",
        "\n"
      ]
    },
    {
      "cell_type": "markdown",
      "metadata": {
        "id": "sgjHZnmTM2uk"
      },
      "source": [
        "### Weight only quantization (Apple CoreML Recipe)\n",
        "We know that Apple CoreML's default quantization mode is weight-only quantization (https://apple.github.io/coremltools/docs-guides/source/data-free-quantization.html), so lets use this as our recipe:"
      ]
    },
    {
      "cell_type": "code",
      "execution_count": null,
      "metadata": {
        "id": "DqUwc6SkSNuF"
      },
      "outputs": [],
      "source": [
        "# Initialize with float .tflite and quantization recipe.\n",
        "recipe_path = '/cns/py-d/home/tensorflow-mobile-eng/rewu/isnet_playground/default_recipes/conv_weight_only_recipe.json'\n",
        "qt = QuantToolkit(\n",
        "    float_model_path=float_model_path, quantization_recipe_path=recipe_path\n",
        ")\n",
        "# Quantize.\n",
        "quantization_result = qt.quantize()\n",
        "# Side by side comparison with the float model.\n",
        "quantized_mask = run_inference(test_image, quantization_result.quantized_model)\n",
        "draw_segementation(image, float_mask, quantized_mask, \"ODML WEIGHT_ONLY\")\n",
        "# Quantization results are savable\n",
        "quantization_result.save(\n",
        "    save_folder=BASE_SAVE_PATH, model_name='asym_weight_only'\n",
        ")"
      ]
    },
    {
      "cell_type": "markdown",
      "metadata": {
        "id": "1uZQTxe0Sure"
      },
      "source": [
        "Followings are step by step explainations. First, we have a prebaked quantization recipe."
      ]
    },
    {
      "cell_type": "code",
      "execution_count": null,
      "metadata": {
        "id": "0HymzAceMyGy"
      },
      "outputs": [],
      "source": [
        "import json\n",
        "with gfile.Open(recipe_path) as json_file:\n",
        "  recipe = json.load(json_file)\n",
        "recipe"
      ]
    },
    {
      "cell_type": "markdown",
      "metadata": {
        "id": "3h8-JbIjNUeU"
      },
      "source": [
        "Here the recipe means: apply post training quantization (`ptq`) for all `CONV_2D` ops under layers satisfying regex `.*` (i.e., all layers). We want the weights of these `CONV_2D` to be quantized as int8, asymmetric, channel_wise, and the execution mode as `Weight_only`.\n"
      ]
    },
    {
      "cell_type": "markdown",
      "metadata": {
        "id": "lvKgDmpQOb-t"
      },
      "source": [
        "`quantization_result` has two components\n",
        "* quantized tflite model (in bytearray) and\n",
        "* the corresponding quantization recipe\n",
        "\n",
        "When we save, we will always save the pair so users know how the model is quantized."
      ]
    },
    {
      "cell_type": "code",
      "execution_count": null,
      "metadata": {
        "id": "cDthuSFZOr1W"
      },
      "outputs": [],
      "source": [
        "quantization_result.recipe"
      ]
    },
    {
      "cell_type": "code",
      "execution_count": null,
      "metadata": {
        "id": "xy7CfFuBO4pZ"
      },
      "outputs": [],
      "source": [
        "type(quantization_result.quantized_model)"
      ]
    },
    {
      "cell_type": "code",
      "execution_count": null,
      "metadata": {
        "id": "q0pkTIhZdW_x"
      },
      "outputs": [],
      "source": [
        "# Quantization results are savable\n",
        "quantization_result.save(\n",
        "    save_folder='./', model_name='asym_weight_only'\n",
        ")\n",
        "!ls -l ./asym_weight_only/"
      ]
    },
    {
      "cell_type": "markdown",
      "metadata": {
        "id": "KfHOxq4pPIuA"
      },
      "source": [
        "### Debug TFLite quantizer\n",
        "We know that TFL quantizer's default quantization mode is weight-only quantization (read https://www.tensorflow.org/lite/performance/quantization_spec carefully), so lets use this as our recipe:"
      ]
    },
    {
      "cell_type": "code",
      "execution_count": null,
      "metadata": {
        "id": "HtkxCB-yZiIX"
      },
      "outputs": [],
      "source": [
        "# Change to ai_edge_torch.convert() produced .tflite for better visualization (model above is from ONNX).\n",
        "# This model is almost the same as the converted model above, but can be better visualized through Model Explorer.\n",
        "float_model_path = './torch_isnet.tflite'\n",
        "!fileutil cp {AI_EDGE_TORCH_CONVERTED_MODEL_PATH} {float_model_path}\n",
        "test_image = preprocess_image_ai_edge_torch(image_path)\n",
        "with gfile.Open(float_model_path, \"rb\") as f:\n",
        "  float_model = f.read()\n",
        "float_mask = run_inference(test_image, float_model)"
      ]
    },
    {
      "cell_type": "code",
      "execution_count": null,
      "metadata": {
        "id": "E_tGqf7blyVg"
      },
      "outputs": [],
      "source": [
        "recipe_path = '/cns/py-d/home/tensorflow-mobile-eng/rewu/isnet_playground/default_recipes/conv_drq_recipe.json'\n",
        "qt = QuantToolkit(\n",
        "    float_model_path=float_model_path, quantization_recipe_path=recipe_path\n",
        ")\n",
        "quantization_result = qt.quantize()"
      ]
    },
    {
      "cell_type": "code",
      "execution_count": null,
      "metadata": {
        "id": "F3tggoxeoQIl"
      },
      "outputs": [],
      "source": [
        "quantization_result.recipe"
      ]
    },
    {
      "cell_type": "markdown",
      "metadata": {
        "id": "WtY1LFCtPpSv"
      },
      "source": [
        "Here the recipe means: apply post training quantization (`ptq`) for all `CONV_2D` ops under layers satisfying regex `.*` (i.e., all layers). We want the weights of these `CONV_2D` to be quantized as int8, symmetric, channel_wise, and the execution mode as `DRQ` (dynamic range quantization).\n"
      ]
    },
    {
      "cell_type": "code",
      "execution_count": null,
      "metadata": {
        "id": "56Xpkmptohff"
      },
      "outputs": [],
      "source": [
        "quantized_mask = run_inference(test_image, quantization_result.quantized_model)\n",
        "draw_segementation(image, float_mask, quantized_mask, \"ODML DRQ\")"
      ]
    },
    {
      "cell_type": "markdown",
      "metadata": {
        "id": "CRNnAf4Adyby"
      },
      "source": [
        "WHY????\n",
        "\n",
        "\"*Default optimization strategy that quantizes model weights. Enhanced optimizations are gained by providing a representative dataset that quantizes biases and activations as well. Converter will **DO ITS BEST** to reduce size and latency, while minimizing the loss in accuracy.*\"\n",
        "\n",
        "It turns out that **DO ITS BEST**  here means if the conv2d filter (weight) has only one channel, do not quantize it (not documented)."
      ]
    },
    {
      "cell_type": "markdown",
      "metadata": {
        "id": "kHx05C7TQDUF"
      },
      "source": [
        "But with the `QuantToolkit`, we can do tensor by tensor comparison to debug:\n"
      ]
    },
    {
      "cell_type": "code",
      "execution_count": null,
      "metadata": {
        "id": "bNe85EY7_t6V"
      },
      "outputs": [],
      "source": [
        "# @title Debug through Model Explorer (visualization)\n",
        "\"\"\"Warning: qt.compare requires a lot of memory (need optimization).\n",
        "\n",
        "Please make sure the colab kernel has a lot of memory.\n",
        "\"\"\"\n",
        "# tensor by tensor comparison (float vs. quantized) using median_diff_ratio\n",
        "# as the metric (i.e., mdr = abs(float_tensor - dequantized_tensor)/float_tensor)\n",
        "comparion_result = qt.compare(\n",
        "    test_data=[[test_image]], error_metrics='median_diff_ratio'\n",
        ")\n",
        "# Save the results in .json format to visualize through Model Explorer\n",
        "json_save_path = (\n",
        "    os.path.join(BASE_SAVE_PATH, 'tensor_comparisons/')\n",
        "    + 'drq_median_diff_ratio.json'\n",
        ")\n",
        "color_threshold = [0.05, 0.1, 0.2, 0.5, 1, 10, 100]\n",
        "qt.save_comparison_result(\n",
        "    comparion_result, json_save_path, color_threshold=color_threshold\n",
        ")"
      ]
    },
    {
      "cell_type": "markdown",
      "metadata": {
        "id": "ymibZKyXQUiw"
      },
      "source": [
        "Load `drq_median_diff_ratio.json` on top of the `.tflite` using `Model Explorer` (https://graph-visualizer.corp.google.com) to see how errors propagate through the model."
      ]
    },
    {
      "cell_type": "markdown",
      "metadata": {
        "id": "CnB9x6b4RWJ_"
      },
      "source": [
        "Using [Model Explorer](http://graph-visualizer/?data=%7B%22models%22:%5B%7B%22url%22:%22%2Fcns%2Fpy-d%2Fhome%2Ftensorflow-mobile-eng%2Frewu%2Fisnet_playground%2Fsource_model%2Ftorch_isnet.tflite%22,%22adapterId%22:%22builtin_tflite_flatbuffer%22%7D%5D,%22nodeData%22:%5B%22%2Fcns%2Fpy-d%2Fhome%2Ftensorflow-mobile-eng%2Frewu%2Fisnet_playground%2Ftensor_comparisons%2Fdrq_median_diff_ratio.json%22,%22%2Fcns%2Fpy-d%2Fhome%2Ftensorflow-mobile-eng%2Frewu%2Fisnet_playground%2Ftensor_comparisons%2Fdrq_wo_mixed_median_diff_ratio.json%22%5D,%22uiState%22:%7B%22paneStates%22:%5B%7B%22deepestExpandedGroupNodeIds%22:%5B%22__main__.ImageSegmentationModelWrapper%2Fmodels.isnet.ISNetDIS_model___group___%22%5D,%22selectedNodeId%22:%22%22,%22selectedGraphId%22:%22main%22,%22selectedCollectionLabel%22:%22torch_isnet.tflite%22,%22widthFraction%22:1,%22selected%22:true%7D%5D%7D%7D\u0026renderer=webgl\u0026show_open_in_new_tab=0), we find that the errors come from the last few layers ('RSU6','RSU7'). Lets try do not quantize them.\n",
        "\n",
        "![image.png](data:image/png;base64,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)"
      ]
    },
    {
      "cell_type": "code",
      "execution_count": null,
      "metadata": {
        "id": "ZID1qD7i2Tn7"
      },
      "outputs": [],
      "source": [
        "# @title Selective DRQ\n",
        "from google3.third_party.odml.model_customization.quantization.qtyping import TFLOperationName\n",
        "\n",
        "qt = QuantToolkit(\n",
        "    float_model_path=float_model_path, quantization_recipe_path=recipe_path\n",
        ")\n",
        "scopes = ['RSU6','RSU7','Conv2d_side1']\n",
        "for scope in scopes:\n",
        "  qt.update_quantization_recipe(\n",
        "      regex=scope,\n",
        "      operation_name=TFLOperationName.CONV_2D,\n",
        "      algorithm_key='NO_QUANT',\n",
        "  )\n",
        "# qt.get_quantization_recipe()"
      ]
    },
    {
      "cell_type": "code",
      "execution_count": null,
      "metadata": {
        "id": "Ng9euL6jLqfJ"
      },
      "outputs": [],
      "source": [
        "quantization_result = qt.quantize()\n",
        "quantized_mask = run_inference(test_image, quantization_result.quantized_model)\n",
        "draw_segementation(image, float_mask, quantized_mask, \"Selective DRQ\")"
      ]
    },
    {
      "cell_type": "markdown",
      "metadata": {
        "id": "vmJVFPB-RtnT"
      },
      "source": [
        "\n",
        "Can we do better? Lets try to mix `weight-only` with `drq`. In this way, we will improve model quality (comparing to full `drq` model) while keeping the model size small."
      ]
    },
    {
      "cell_type": "code",
      "execution_count": null,
      "metadata": {
        "id": "E1dwc3PLQuYg"
      },
      "outputs": [],
      "source": [
        "# @title DRQ Weight-only mix\n",
        "from google3.third_party.odml.model_customization.quantization.qtyping import OpExecutionMode\n",
        "from google3.third_party.odml.model_customization.quantization.qtyping import OpQuantizationConfig\n",
        "from google3.third_party.odml.model_customization.quantization.qtyping import TensorQuantizationConfig\n",
        "from google3.third_party.odml.model_customization.quantization.qtyping import TFLOperationName\n",
        "\n",
        "qt = QuantToolkit(\n",
        "    float_model_path=float_model_path, quantization_recipe_path=recipe_path\n",
        ")\n",
        "for scope in scopes:\n",
        "  qt.update_quantization_recipe(\n",
        "      regex=scope,\n",
        "      operation_name=TFLOperationName.CONV_2D,\n",
        "      op_config=OpQuantizationConfig(\n",
        "          weight_tensor_config=TensorQuantizationConfig(\n",
        "              num_bits=8,\n",
        "              symmetric=False,\n",
        "              channel_wise=True,\n",
        "          ),\n",
        "          execution_mode=OpExecutionMode.WEIGHT_ONLY,\n",
        "      ),\n",
        "  )\n",
        "# qt.get_quantization_recipe()"
      ]
    },
    {
      "cell_type": "code",
      "execution_count": null,
      "metadata": {
        "id": "k8J7SM6kOiY6"
      },
      "outputs": [],
      "source": [
        "quantization_result = qt.quantize()\n",
        "quantized_mask = run_inference(test_image, quantization_result.quantized_model)\n",
        "draw_segementation(image, float_mask, quantized_mask, \"DRQ weight-only mix\")\n",
        "\n",
        "quantization_result.save(\n",
        "    save_folder=BASE_SAVE_PATH, model_name='int8_weight_only_drq_mix'\n",
        ")"
      ]
    },
    {
      "cell_type": "code",
      "execution_count": null,
      "metadata": {
        "id": "iKf9WF-jm4zK"
      },
      "outputs": [],
      "source": [
        "# tensor by tensor comparison (float vs. quantized) using median_diff_ratio\n",
        "# as the metric (i.e., mdr = abs(float_tensor - dequantized_tensor)/float_tensor)\n",
        "comparion_result = qt.compare(\n",
        "    test_data=[[test_image]], error_metrics='median_diff_ratio'\n",
        ")\n",
        "# Save the results in .json format to visualize through Model Explorer\n",
        "json_save_path = (\n",
        "    os.path.join(BASE_SAVE_PATH, 'tensor_comparisons/')\n",
        "    + 'drq_wo_mixed_median_diff_ratio.json'\n",
        ")\n",
        "color_threshold = [0.05, 0.1, 0.2, 0.5, 1, 10, 100]\n",
        "qt.save_comparison_result(\n",
        "    comparion_result, json_save_path, color_threshold=color_threshold\n",
        ")"
      ]
    },
    {
      "cell_type": "markdown",
      "metadata": {
        "id": "TGWu8TFaSk0Y"
      },
      "source": [
        "## We can do better\n",
        "\n",
        "Lets try low bit quantization.\n",
        "\n",
        "Note: currently packing is not supported. Here we store int4/3/2 weights in int8 container so the final model has the same size as the int8 model. The goal is to explore the boundaries: motivates infrastructure supports for aggresive quantization techniques."
      ]
    },
    {
      "cell_type": "code",
      "execution_count": null,
      "metadata": {
        "id": "NLDp66AIRTlk"
      },
      "outputs": [],
      "source": [
        "# @title INT4 weight-only\n",
        "qt = QuantToolkit(float_model_path=float_model_path)\n",
        "qt.update_quantization_recipe(\n",
        "    regex=\".*\",\n",
        "    operation_name=TFLOperationName.CONV_2D,\n",
        "    op_config=OpQuantizationConfig(\n",
        "        weight_tensor_config=TensorQuantizationConfig(\n",
        "            num_bits=4,\n",
        "            symmetric=False,\n",
        "            channel_wise=True,\n",
        "        ),\n",
        "        execution_mode=OpExecutionMode.WEIGHT_ONLY,\n",
        "    ),\n",
        ")\n",
        "quantization_result = qt.quantize()\n",
        "quantized_mask = run_inference(test_image, quantization_result.quantized_model)\n",
        "draw_segementation(image, float_mask, quantized_mask, \"int4 weight only\")"
      ]
    },
    {
      "cell_type": "code",
      "execution_count": null,
      "metadata": {
        "id": "Q9d7RfbLV2Dg"
      },
      "outputs": [],
      "source": [
        "# @title INT2 weight-only\n",
        "qt = QuantToolkit(float_model_path=float_model_path)\n",
        "qt.update_quantization_recipe(\n",
        "    regex=\".*\",\n",
        "    operation_name=TFLOperationName.CONV_2D,\n",
        "    op_config=OpQuantizationConfig(\n",
        "        weight_tensor_config=TensorQuantizationConfig(\n",
        "            num_bits=2,\n",
        "            symmetric=False,\n",
        "            channel_wise=True,\n",
        "        ),\n",
        "        execution_mode=OpExecutionMode.WEIGHT_ONLY,\n",
        "    ),\n",
        ")\n",
        "quantization_result = qt.quantize()\n",
        "quantized_mask = run_inference(test_image, quantization_result.quantized_model)\n",
        "draw_segementation(image, float_mask, quantized_mask, \"int2 weight only\")"
      ]
    },
    {
      "cell_type": "code",
      "execution_count": null,
      "metadata": {
        "id": "oR9dDg3jf4_t"
      },
      "outputs": [],
      "source": []
    }
  ],
  "metadata": {
    "colab": {
      "last_runtime": {
        "build_target": "//third_party/odml/model_customization/quantization:quant_demo_kernel",
        "kind": "private"
      },
      "private_outputs": true,
      "provenance": [
        {
          "file_id": "1Ea3DPWr6VaxT6iHY6zuFqNpMXcHZn2A6",
          "timestamp": 1714413175890
        }
      ],
      "toc_visible": true
    },
    "kernelspec": {
      "display_name": "Python 3",
      "name": "python3"
    },
    "language_info": {
      "name": "python"
    }
  },
  "nbformat": 4,
  "nbformat_minor": 0
}
